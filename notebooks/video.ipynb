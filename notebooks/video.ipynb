{
 "cells": [
  {
   "attachments": {},
   "cell_type": "markdown",
   "metadata": {},
   "source": [
    "This code is helpful to render output images from ns-render."
   ]
  },
  {
   "cell_type": "code",
   "execution_count": null,
   "metadata": {},
   "outputs": [],
   "source": [
    "from tqdm import tqdm\n",
    "import glob\n",
    "import mediapy as media\n",
    "import numpy as np\n",
    "import os\n",
    "\n",
    "max_depth = 2.0\n",
    "fps = 24\n",
    "background_color = \"white\" # or \"black\"\n",
    "\n",
    "path = \"path/to/rendered/folders\"\n",
    "output_filename = \"output.mp4\"\n",
    "# make sure the output directory exists\n",
    "os.makedirs(os.path.dirname(output_filename), exist_ok=True)\n",
    "\n",
    "filenames = sorted(glob.glob(f\"{path}/rgb/*\"))\n",
    "\n",
    "im0s = []\n",
    "for idx, f in tqdm(enumerate(filenames)):\n",
    "    rgb0 = media.read_image(f)\n",
    "    depth_raw0 = np.load(f.replace(\"rgb\", \"depth_raw\").replace(\".png\", \".npy\")).repeat(3, axis=-1)\n",
    "    rgb0[depth_raw0 > max_depth] = 255 if background_color == \"white\" else 0\n",
    "    im0s.append(rgb0)\n",
    "media.write_video(output_filename, im0s, fps=fps)"
   ]
  }
 ],
 "metadata": {
  "kernelspec": {
   "display_name": "cleanerf",
   "language": "python",
   "name": "python3"
  },
  "language_info": {
   "codemirror_mode": {
    "name": "ipython",
    "version": 3
   },
   "file_extension": ".py",
   "mimetype": "text/x-python",
   "name": "python",
   "nbconvert_exporter": "python",
   "pygments_lexer": "ipython3",
   "version": "3.8.16"
  },
  "orig_nbformat": 4
 },
 "nbformat": 4,
 "nbformat_minor": 2
}
